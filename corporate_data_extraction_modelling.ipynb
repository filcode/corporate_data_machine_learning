{
 "cells": [
  {
   "cell_type": "markdown",
   "id": "08369d27",
   "metadata": {},
   "source": [
    "## ***ImportFinancialData***\n",
    "\n",
    "Code will show how it let user set filter and get dataframes for each statements which containts all companies sector.\n",
    "\n",
    "\n",
    "Steps:\n",
    "1. select specific sector you're interested in - USER\n",
    "2. scrape sectors company from Barron's website\n",
    "3. scrape financial data from MarketWatch website\n",
    "3. get corporate table (income, balance sheet, cash flow, ratio table) (with target currency specified)\n",
    "\n",
    "<u>*Note*</u>: about **ratio table** it is custom and indices will have objective to indentify main characteristics that show how corporate is going viewing itself and comparing with others*"
   ]
  },
  {
   "cell_type": "markdown",
   "id": "453c07b6",
   "metadata": {},
   "source": [
    "## Data extraction"
   ]
  },
  {
   "cell_type": "markdown",
   "id": "5b9c9510",
   "metadata": {},
   "source": [
    "**<u>SetUp</u>**"
   ]
  },
  {
   "cell_type": "code",
   "execution_count": 1,
   "id": "040c1acb",
   "metadata": {},
   "outputs": [],
   "source": [
    "# pip install --upgrade pandas pyarrow"
   ]
  },
  {
   "cell_type": "code",
   "execution_count": 2,
   "id": "8d48b3c1",
   "metadata": {},
   "outputs": [],
   "source": [
    "# pip install google-auth"
   ]
  },
  {
   "cell_type": "code",
   "execution_count": 1,
   "id": "6a650fb2",
   "metadata": {},
   "outputs": [],
   "source": [
    "import requests\n",
    "import json\n",
    "import pandas as pd\n",
    "import matplotlib.pyplot as plt\n",
    "import seaborn as sns\n",
    "from bs4 import BeautifulSoup\n",
    "from io import StringIO\n",
    "import time\n",
    "import numpy as np\n",
    "import threading"
   ]
  },
  {
   "cell_type": "code",
   "execution_count": 2,
   "id": "3e121f25",
   "metadata": {},
   "outputs": [
    {
     "name": "stdout",
     "output_type": "stream",
     "text": [
      "2.1.0\n"
     ]
    }
   ],
   "source": [
    "# Make sure pandas version is over or same of 2.1.0 \n",
    "print(pd.__version__)"
   ]
  },
  {
   "cell_type": "code",
   "execution_count": 3,
   "id": "f6661e89",
   "metadata": {},
   "outputs": [],
   "source": [
    "# setting 'None' to see entire table as defoult output\n",
    "pd.set_option('display.max_columns', None) \n",
    "pd.set_option('display.max_rows', None)\n",
    "pd.options.display.float_format = '{:.2f}'.format"
   ]
  },
  {
   "cell_type": "markdown",
   "id": "984dfa05",
   "metadata": {},
   "source": [
    "**<U>Import libraries UDF**"
   ]
  },
  {
   "cell_type": "code",
   "execution_count": 4,
   "id": "10955290",
   "metadata": {},
   "outputs": [],
   "source": [
    "import sys\n",
    "sys.path.append('C:/Users/utente/Desktop/Master ACF/financial_modeling/dataset/notebook/UDF/finance_udf')\n",
    "import Download_Sectors, Get_Corporates_Analysis_Data, Get_Financial_Analysis_Data, country_codes_corporate, Visual_Corporate"
   ]
  },
  {
   "cell_type": "code",
   "execution_count": null,
   "id": "8d33a799",
   "metadata": {},
   "outputs": [],
   "source": []
  },
  {
   "cell_type": "markdown",
   "id": "c652b99b",
   "metadata": {},
   "source": [
    "**<u>Read *countries_and_currencies* file**"
   ]
  },
  {
   "cell_type": "code",
   "execution_count": 5,
   "id": "c5404e76",
   "metadata": {},
   "outputs": [],
   "source": [
    "from country_codes_corporate import countries_and_currencies"
   ]
  },
  {
   "cell_type": "code",
   "execution_count": 6,
   "id": "b15394dc",
   "metadata": {},
   "outputs": [],
   "source": [
    "countries_and_currencies = pd.DataFrame(countries_and_currencies)"
   ]
  },
  {
   "cell_type": "code",
   "execution_count": 7,
   "id": "3408e1c5",
   "metadata": {},
   "outputs": [
    {
     "data": {
      "text/plain": [
       "189"
      ]
     },
     "execution_count": 7,
     "metadata": {},
     "output_type": "execute_result"
    }
   ],
   "source": [
    "len(countries_and_currencies)"
   ]
  },
  {
   "cell_type": "markdown",
   "id": "d047b454",
   "metadata": {},
   "source": [
    "**<u>Sectors available**"
   ]
  },
  {
   "cell_type": "code",
   "execution_count": 11,
   "id": "4c433746",
   "metadata": {},
   "outputs": [],
   "source": [
    "# --- 1. RUN THIS IF YOU DIDN'DOWNLOAD YET\n",
    "# Download_Sectors.Download_Sectors()"
   ]
  },
  {
   "cell_type": "code",
   "execution_count": 8,
   "id": "9559f559",
   "metadata": {},
   "outputs": [],
   "source": [
    "# --- 2. RUN THIS IF YOU'VE ALREADY DOWNLOADED AND HAVE EXCEL FILE IN FOLDER\n",
    "link_file = '1jpK3Y2Xt5c1V_fiIsgO9C6mg5pYYju0G' # available to anyone with the link\n",
    "\n",
    "# Read file on google drive\n",
    "url=f'https://drive.google.com/file/d/{link_file}/view?usp=sharing'\n",
    "url='https://drive.google.com/uc?id=' + url.split('/')[-2]\n",
    "path_sector_file = pd.read_excel(url)"
   ]
  },
  {
   "cell_type": "code",
   "execution_count": 9,
   "id": "caec9ac1",
   "metadata": {},
   "outputs": [
    {
     "data": {
      "text/plain": [
       "array(['Business/Consumer Services', 'Industrial Goods',\n",
       "       'Transportation/Logistics', 'Consumer Goods', 'Energy',\n",
       "       'Basic Materials/Resources', 'Automotive', 'Financial Services',\n",
       "       'Health Care/Life Sciences', 'Media/Entertainment',\n",
       "       'Real Estate/Construction', 'Retail/Wholesale', 'Technology',\n",
       "       'Utilities', 'Agriculture', 'Leisure/Arts/Hospitality',\n",
       "       'Telecommunication Services'], dtype=object)"
      ]
     },
     "execution_count": 9,
     "metadata": {},
     "output_type": "execute_result"
    }
   ],
   "source": [
    "# Sectors available\n",
    "path_sector_file['sector'].unique()"
   ]
  },
  {
   "cell_type": "code",
   "execution_count": null,
   "id": "bd6bc87c",
   "metadata": {},
   "outputs": [],
   "source": []
  },
  {
   "cell_type": "markdown",
   "id": "b2f15700",
   "metadata": {},
   "source": [
    "### User required settings"
   ]
  },
  {
   "cell_type": "markdown",
   "id": "aeaff0fd",
   "metadata": {},
   "source": [
    "**<u>1. Filter: regions and currency** (EU and EEU) --> select countries needs"
   ]
  },
  {
   "cell_type": "code",
   "execution_count": 10,
   "id": "833230e8",
   "metadata": {},
   "outputs": [],
   "source": [
    "eu_regions = ['Austria', 'Belgium','Bulgaria', 'Croatia',\n",
    "        'Cyprus', 'Czechia', 'Denmark', 'Estonia',\n",
    "        'Finland', 'France', 'Germany', 'Greece',\n",
    "        'Hungary', 'Ireland', 'Italy', 'Latvia', 'Lithuania',\n",
    "        'Luxembourg', 'Malta', 'Netherlands', 'Poland', 'Portugal',\n",
    "        'Romania', 'Slovakia', 'Slovenia', 'Spain', 'Sweden',\n",
    "        'Iceland', 'Norway']\n",
    "\n",
    "regions = eu_regions"
   ]
  },
  {
   "cell_type": "markdown",
   "id": "eb3b0d72",
   "metadata": {},
   "source": [
    "**<u>2. Specify target currency to conversion**"
   ]
  },
  {
   "cell_type": "code",
   "execution_count": 11,
   "id": "ad5800b8",
   "metadata": {},
   "outputs": [],
   "source": [
    "# Specify the target currency, in which all the different currencies will be converted\n",
    "target_currency = 'USD'"
   ]
  },
  {
   "cell_type": "markdown",
   "id": "f7e9e461",
   "metadata": {},
   "source": [
    "**<u>3. Specify Sector**"
   ]
  },
  {
   "cell_type": "code",
   "execution_count": 12,
   "id": "79fce2f4",
   "metadata": {},
   "outputs": [],
   "source": [
    "sectors = ['Consumer Goods']"
   ]
  },
  {
   "cell_type": "markdown",
   "id": "0f1e02ee",
   "metadata": {},
   "source": [
    "**<u>Optional filter**: get just for specific letter/specific"
   ]
  },
  {
   "cell_type": "code",
   "execution_count": 13,
   "id": "17f61779",
   "metadata": {},
   "outputs": [],
   "source": [
    "alp = ['A', 'B', 'C', 'D', 'E', 'F', 'G', 'H', 'I', 'J', 'K', 'L', 'M', 'N', 'O', 'P', 'Q', 'R', 'S', 'T', 'U', 'V', 'W', 'X', 'Y', 'Z']"
   ]
  },
  {
   "cell_type": "code",
   "execution_count": null,
   "id": "0b9d7066",
   "metadata": {},
   "outputs": [],
   "source": []
  },
  {
   "cell_type": "code",
   "execution_count": null,
   "id": "0a880a6e",
   "metadata": {},
   "outputs": [],
   "source": []
  },
  {
   "cell_type": "markdown",
   "id": "3594c24f",
   "metadata": {},
   "source": [
    "**NOTE**: following outputs\n",
    "* Financial table\n",
    "* Statements (BS, IS, CF, RT)"
   ]
  },
  {
   "cell_type": "code",
   "execution_count": null,
   "id": "8a6532b2",
   "metadata": {},
   "outputs": [],
   "source": []
  },
  {
   "cell_type": "code",
   "execution_count": null,
   "id": "365f813b",
   "metadata": {},
   "outputs": [],
   "source": []
  },
  {
   "cell_type": "markdown",
   "id": "37169dea",
   "metadata": {},
   "source": [
    "## <u>Financial table"
   ]
  },
  {
   "cell_type": "markdown",
   "id": "f6399bed",
   "metadata": {},
   "source": [
    "Indices will get:\n",
    "* Market Cap\n",
    "* Market Cap (converted)\n",
    "* Beta\n",
    "* Average Volume\n",
    "* Shares Outstanding\n",
    "* P/E Ratio\n",
    "* Yield(%)Public Float"
   ]
  },
  {
   "cell_type": "markdown",
   "id": "b6500359",
   "metadata": {},
   "source": [
    "**<u>Get financial data**"
   ]
  },
  {
   "cell_type": "code",
   "execution_count": 14,
   "id": "b11fbf4a",
   "metadata": {},
   "outputs": [
    {
     "name": "stdout",
     "output_type": "stream",
     "text": [
      "Error:  6 Adris Grupa d.d. Pfd.\n",
      "Error:  6 Adris Grupa d.d.\n",
      "Error:  32 Atlantic Grupa d.d.\n",
      "Error:  10 Bermas S.A. Suceava\n",
      "Error:  1 Cakovecki Mlinovi d.d.\n",
      "Error:  6 Cateks d.d.\n",
      "Error:  27 Conted S.A.\n",
      "Error:  5 Electroarges S.A.\n",
      "Error:  13 Granolio d.d.\n",
      "Error:  17 Hydra Games S.A.\n",
      "Error:  1 Jadran Tvornica Carapa d.d.\n",
      "Error:  9 Koestlin d.d.\n",
      "Error:  11 Kras d.d.\n",
      "Error:  12 Kutjevo d.d.\n",
      "Error:  12 Metaversum S.A.\n",
      "Error:  14 Norse Impact AB\n",
      "Error:  12 Podravka Prehrambena Industrija d.d.\n",
      "Error:  19 Purcari Wineries PCL\n",
      "Error:  6 Saponia d.d.\n",
      "Error:  6 Tekstilpromet d.d.\n",
      "Error:  4 Ves S.A.\n",
      "Error:  5 Zordix AB Series B\n"
     ]
    }
   ],
   "source": [
    "Financial_df = Get_Financial_Analysis_Data.finacial_analysis(sectors, eu_regions, alp, path_sector_file)\n",
    "# Error below means the model found no source data for those companies"
   ]
  },
  {
   "cell_type": "markdown",
   "id": "6aedfe85",
   "metadata": {},
   "source": [
    "**<u>Currency conversation**"
   ]
  },
  {
   "cell_type": "code",
   "execution_count": 15,
   "id": "16a0a246",
   "metadata": {},
   "outputs": [],
   "source": [
    "Financial_df1, currencies_rates_df = Get_Financial_Analysis_Data.convert_to_target(Financial_df, target_currency, countries_and_currencies)"
   ]
  },
  {
   "cell_type": "code",
   "execution_count": 16,
   "id": "68bfa3eb",
   "metadata": {},
   "outputs": [
    {
     "data": {
      "text/plain": [
       "518"
      ]
     },
     "execution_count": 16,
     "metadata": {},
     "output_type": "execute_result"
    }
   ],
   "source": [
    "len(Financial_df1)"
   ]
  },
  {
   "cell_type": "code",
   "execution_count": 17,
   "id": "669a01ca",
   "metadata": {},
   "outputs": [
    {
     "data": {
      "text/html": [
       "<div>\n",
       "<style scoped>\n",
       "    .dataframe tbody tr th:only-of-type {\n",
       "        vertical-align: middle;\n",
       "    }\n",
       "\n",
       "    .dataframe tbody tr th {\n",
       "        vertical-align: top;\n",
       "    }\n",
       "\n",
       "    .dataframe thead th {\n",
       "        text-align: right;\n",
       "    }\n",
       "</style>\n",
       "<table border=\"1\" class=\"dataframe\">\n",
       "  <thead>\n",
       "    <tr style=\"text-align: right;\">\n",
       "      <th></th>\n",
       "      <th>Country</th>\n",
       "      <th>Sector</th>\n",
       "      <th>Exchange</th>\n",
       "      <th>Company Name</th>\n",
       "      <th>Ticker</th>\n",
       "      <th>Symbol</th>\n",
       "      <th>Market Cap</th>\n",
       "      <th>Market Cap (USD)</th>\n",
       "      <th>Beta</th>\n",
       "      <th>Average Volume</th>\n",
       "      <th>Shares Outstanding</th>\n",
       "      <th>P/E Ratio</th>\n",
       "      <th>Yield(%)</th>\n",
       "      <th>Public Float</th>\n",
       "    </tr>\n",
       "  </thead>\n",
       "  <tbody>\n",
       "    <tr>\n",
       "      <th>0</th>\n",
       "      <td>Sweden</td>\n",
       "      <td>Food Products</td>\n",
       "      <td>XSTO</td>\n",
       "      <td>AAK AB</td>\n",
       "      <td>AAK</td>\n",
       "      <td>SEK</td>\n",
       "      <td>kr51760000.0</td>\n",
       "      <td>4633259.93</td>\n",
       "      <td>NaN</td>\n",
       "      <td>205.60</td>\n",
       "      <td>259560.00</td>\n",
       "      <td>21.85</td>\n",
       "      <td>1.36</td>\n",
       "      <td>175610.00</td>\n",
       "    </tr>\n",
       "    <tr>\n",
       "      <th>1</th>\n",
       "      <td>France</td>\n",
       "      <td>Sports Goods</td>\n",
       "      <td>XPAR</td>\n",
       "      <td>Abeo S.A.</td>\n",
       "      <td>ABEO</td>\n",
       "      <td>EUR</td>\n",
       "      <td>€125870.0</td>\n",
       "      <td>134232.70</td>\n",
       "      <td>NaN</td>\n",
       "      <td>481.23</td>\n",
       "      <td>7540.00</td>\n",
       "      <td>18.21</td>\n",
       "      <td>2.02</td>\n",
       "      <td>952.87</td>\n",
       "    </tr>\n",
       "    <tr>\n",
       "      <th>2</th>\n",
       "      <td>Netherlands</td>\n",
       "      <td>Food Products</td>\n",
       "      <td>XAMS</td>\n",
       "      <td>Acomo N.V.</td>\n",
       "      <td>ACOMO</td>\n",
       "      <td>EUR</td>\n",
       "      <td>€584540.0</td>\n",
       "      <td>623376.35</td>\n",
       "      <td>NaN</td>\n",
       "      <td>11.33</td>\n",
       "      <td>29580.00</td>\n",
       "      <td>12.96</td>\n",
       "      <td>6.00</td>\n",
       "      <td>18110.00</td>\n",
       "    </tr>\n",
       "    <tr>\n",
       "      <th>3</th>\n",
       "      <td>Germany</td>\n",
       "      <td>Food Products</td>\n",
       "      <td>XFRA</td>\n",
       "      <td>ADM Hamburg AG</td>\n",
       "      <td>OEL</td>\n",
       "      <td>EUR</td>\n",
       "      <td>€232130.0</td>\n",
       "      <td>247552.52</td>\n",
       "      <td>0.56</td>\n",
       "      <td>0.42</td>\n",
       "      <td>NaN</td>\n",
       "      <td>219.13</td>\n",
       "      <td>4.50</td>\n",
       "      <td>38.94</td>\n",
       "    </tr>\n",
       "    <tr>\n",
       "      <th>4</th>\n",
       "      <td>Hungary</td>\n",
       "      <td>Footwear</td>\n",
       "      <td>XBUD</td>\n",
       "      <td>adidas AG</td>\n",
       "      <td>ADID</td>\n",
       "      <td>HUF</td>\n",
       "      <td>Ft11200000000.0</td>\n",
       "      <td>31147770.31</td>\n",
       "      <td>0.85</td>\n",
       "      <td>1.17</td>\n",
       "      <td>180000.00</td>\n",
       "      <td>NaN</td>\n",
       "      <td>0.41</td>\n",
       "      <td>157500.00</td>\n",
       "    </tr>\n",
       "  </tbody>\n",
       "</table>\n",
       "</div>"
      ],
      "text/plain": [
       "       Country         Sector Exchange    Company Name Ticker Symbol  \\\n",
       "0       Sweden  Food Products     XSTO          AAK AB    AAK    SEK   \n",
       "1       France   Sports Goods     XPAR       Abeo S.A.   ABEO    EUR   \n",
       "2  Netherlands  Food Products     XAMS      Acomo N.V.  ACOMO    EUR   \n",
       "3      Germany  Food Products     XFRA  ADM Hamburg AG    OEL    EUR   \n",
       "4      Hungary       Footwear     XBUD       adidas AG   ADID    HUF   \n",
       "\n",
       "        Market Cap  Market Cap (USD)  Beta  Average Volume  \\\n",
       "0     kr51760000.0        4633259.93   NaN          205.60   \n",
       "1        €125870.0         134232.70   NaN          481.23   \n",
       "2        €584540.0         623376.35   NaN           11.33   \n",
       "3        €232130.0         247552.52  0.56            0.42   \n",
       "4  Ft11200000000.0       31147770.31  0.85            1.17   \n",
       "\n",
       "   Shares Outstanding  P/E Ratio  Yield(%)  Public Float  \n",
       "0           259560.00      21.85      1.36     175610.00  \n",
       "1             7540.00      18.21      2.02        952.87  \n",
       "2            29580.00      12.96      6.00      18110.00  \n",
       "3                 NaN     219.13      4.50         38.94  \n",
       "4           180000.00        NaN      0.41     157500.00  "
      ]
     },
     "execution_count": 17,
     "metadata": {},
     "output_type": "execute_result"
    }
   ],
   "source": [
    "Financial_df1.head(5)"
   ]
  },
  {
   "cell_type": "code",
   "execution_count": null,
   "id": "a9945651",
   "metadata": {},
   "outputs": [],
   "source": []
  },
  {
   "cell_type": "markdown",
   "id": "63507923",
   "metadata": {},
   "source": [
    "## <u>Corporate data"
   ]
  },
  {
   "cell_type": "markdown",
   "id": "3f3b7451",
   "metadata": {},
   "source": [
    "**<u>4. Year setting**\n",
    "will be taken the available years from the source, so if you have defined years not available you will not get errors."
   ]
  },
  {
   "cell_type": "code",
   "execution_count": 18,
   "id": "7a1f2575",
   "metadata": {
    "scrolled": false
   },
   "outputs": [],
   "source": [
    "Years = [2022,2021,2020,2019] # year statements refferred to"
   ]
  },
  {
   "cell_type": "markdown",
   "id": "45d7774b",
   "metadata": {},
   "source": [
    "**Get BS, IS, CF data**"
   ]
  },
  {
   "cell_type": "code",
   "execution_count": 20,
   "id": "03b64e04",
   "metadata": {},
   "outputs": [
    {
     "name": "stdout",
     "output_type": "stream",
     "text": [
      "error: 6 Adris Grupa d.d.\n",
      "error: 6 Adris Grupa d.d. Pfd.\n",
      "error: 27 Art Games Studio S.A.\n",
      "error: 30 Asmodev S.A.\n",
      "error: 32 Atlantic Grupa d.d.\n",
      "error: 10 Bermas S.A. Suceava\n",
      "error: 21 BTC Studios S.A.\n",
      "error: 22 Bulgarska Roza AD\n",
      "error: 1 Cabasse S.A.\n",
      "error: 1 Cakovecki Mlinovi d.d.\n",
      "error: 5 Carbon Studio S.A.\n",
      "error: 6 Cateks d.d.\n",
      "error: 27 Console Labs S.A.\n",
      "error: 27 Conted S.A.\n",
      "error: 5 Decotex AD\n",
      "error: 12 Don't Nod Entertainment S.A.\n",
      "error: 12 Drageus Games S.A.\n",
      "error: 13 Duality S.A.\n",
      "error: 4 Eevia Health Oyj\n",
      "error: 5 Electroarges S.A.\n",
      "error: 14 Eurosnack S.A.\n",
      "error: 3 Fenix Outdoor International Ltd. Series B\n",
      "error: 10 Franck Deville\n",
      "error: 11 Frozen Way S.A.\n",
      "error: 1 Galeo Concept\n",
      "error: 2 Gamedust S.A.\n",
      "error: 2 Games Box S.A.\n",
      "error: 2 Gaming Factory S.A.\n",
      "error: 2 Gamivo S.A.\n",
      "error: 12 Gradus AD Stara Zagora\n",
      "error: 13 Granolio d.d.\n",
      "error: 15 Grolleau\n",
      "error: 1 Hagen Bikes Holding A.S.\n",
      "error: 3 Hannun S.A.\n",
      "error: 10 HiProMine S.A.\n",
      "error: 17 Huuuge Inc.\n",
      "error: 17 Hval Sjokoladefabrikk ASA\n",
      "error: 17 Hydra Games S.A.\n",
      "error: 10 Intermarum S.A.\n",
      "error: 13 Iron Wolf Studio S.A.\n",
      "error: 1 Jadran Tvornica Carapa d.d.\n",
      "error: 8 JRC Group S.A.\n",
      "error: 8 Klabater S.A.\n",
      "error: 8 Klepper Faltbootwerft AG Pfd.\n",
      "error: 9 Koestlin d.d.\n",
      "error: 11 Kras d.d.\n",
      "error: 12 Kutjevo d.d.\n",
      "error: 8 Live Motion Games S.A.\n",
      "error: 9 LocoSoco Group PLC\n",
      "error: 9 Lombard et Medot S.A.\n",
      "error: 9 Lomsko Pivo AD\n",
      "error: 10 Longterm Games S.A.\n",
      "error: 2 Madmind Studio S.A.\n",
      "error: 2 Magis S.p.A.\n",
      "error: 9 MegaPixel Studio S.A.\n",
      "error: 12 Metaversum S.A.\n",
      "error: 20 Movie Games VR S.A.\n",
      "error: 6 Neurone Studio S.A.\n",
      "error: 8 NewTree S.A.\n",
      "error: 13 Noobz from Poland S.A.\n",
      "error: 14 Norse Impact AB\n",
      "error: 3 Olgeroin Egill Skallagrimsson hf.\n",
      "error: 3 Olymp S.A.\n",
      "error: 11 Pixel Crow Games S.A.\n",
      "error: 12 Podravka Prehrambena Industrija d.d.\n",
      "error: 16 Prime Bit Games S.A.\n",
      "error: 19 Purcari Wineries PCL\n",
      "error: 4 Realco S.A.\n",
      "error: 6 Render Cube S.A.\n",
      "error: 10 Robinson Europe S.A.\n",
      "error: 1 Safe Lane Gaming AB\n",
      "error: 6 Saponia d.d.\n",
      "error: 7 Savonnerie de Nyons S.A.\n",
      "error: 24 SimFabric S.A.\n",
      "error: 27 Skinwallet S.A.\n",
      "error: 28 Smalto\n",
      "error: 28 Smart Good Things Holding S.A.\n",
      "error: 31 Sonka S.A.\n",
      "error: 32 Sonka S.A.\n",
      "error: 36 Starbreeze AB Series A\n",
      "error: 36 Starbreeze AB Series B\n",
      "error: 6 Tekstilpromet d.d.\n",
      "error: 11 Thunderful Group AB\n",
      "error: 1 UF Games S.A.\n",
      "error: 2 Unibel S.A.\n",
      "error: 3 Velbazhd AD\n",
      "error: 4 Ves S.A.\n",
      "error: 7 Vivid Games S.A.\n",
      "error: 5 Zordix AB Series B\n"
     ]
    }
   ],
   "source": [
    "income_statement_annual_df,balance_sheet_annual_df,cash_flow_annual_df = Get_Corporates_Analysis_Data.Corporates_analysis(sectors, regions,Years, alp, path_sector_file)\n",
    "# Error below means the model found no source data for those companies"
   ]
  },
  {
   "cell_type": "markdown",
   "id": "c02ed9ea",
   "metadata": {},
   "source": [
    "**Creating Ratio Table**"
   ]
  },
  {
   "cell_type": "code",
   "execution_count": 21,
   "id": "2a73d141",
   "metadata": {},
   "outputs": [],
   "source": [
    "ratio_table_annual_df = Get_Corporates_Analysis_Data.get_ratio_table(income_statement_annual_df,balance_sheet_annual_df,cash_flow_annual_df)"
   ]
  },
  {
   "cell_type": "markdown",
   "id": "0495d853",
   "metadata": {},
   "source": [
    "**Formatting and modelling data**"
   ]
  },
  {
   "cell_type": "code",
   "execution_count": 22,
   "id": "dde727eb",
   "metadata": {},
   "outputs": [],
   "source": [
    "income_statement_annual_df,balance_sheet_annual_df,cash_flow_annual_df = Get_Corporates_Analysis_Data.Corporates_Table_Formatting(income_statement_annual_df,balance_sheet_annual_df,cash_flow_annual_df)"
   ]
  },
  {
   "cell_type": "markdown",
   "id": "6a616a00",
   "metadata": {},
   "source": [
    "**Currency conversation**"
   ]
  },
  {
   "cell_type": "code",
   "execution_count": 23,
   "id": "f8376e68",
   "metadata": {},
   "outputs": [],
   "source": [
    "income_statement_annual_df1, balance_sheet_annual_df1, cash_flow_annual_df1 = Get_Corporates_Analysis_Data.convert_to_target(income_statement_annual_df,balance_sheet_annual_df,cash_flow_annual_df,Years,target_currency,countries_and_currencies)"
   ]
  },
  {
   "cell_type": "code",
   "execution_count": null,
   "id": "5e93f809",
   "metadata": {},
   "outputs": [],
   "source": []
  },
  {
   "cell_type": "code",
   "execution_count": null,
   "id": "9c65abee",
   "metadata": {},
   "outputs": [],
   "source": []
  },
  {
   "cell_type": "markdown",
   "id": "1e60c7ba",
   "metadata": {},
   "source": [
    "## Mange potential duplicates found"
   ]
  },
  {
   "cell_type": "markdown",
   "id": "5dbc2f02",
   "metadata": {},
   "source": [
    "**Duplicates definition:** rows which has same 'Sector','Super Sector','Industry' and 'Year' and values columns\n",
    "\n",
    "**NOTE:** will not be removed equal companies which show values different currencies, because exchange rate are not exactly the same"
   ]
  },
  {
   "cell_type": "markdown",
   "id": "0fefeb41",
   "metadata": {},
   "source": [
    "**<u>Replacing year to int type**"
   ]
  },
  {
   "cell_type": "code",
   "execution_count": 24,
   "id": "304d9580",
   "metadata": {},
   "outputs": [],
   "source": [
    "income_statement_annual_df1['Year'] = income_statement_annual_df1['Year'].astype(int)\n",
    "balance_sheet_annual_df1['Year'] = balance_sheet_annual_df1['Year'].astype(int)\n",
    "cash_flow_annual_df1['Year'] = cash_flow_annual_df1['Year'].astype(int)\n",
    "ratio_table_annual_df['Year'] = ratio_table_annual_df['Year'].astype(int)"
   ]
  },
  {
   "cell_type": "markdown",
   "id": "45c30abc",
   "metadata": {},
   "source": [
    "**<u>Get duplicates</u>**"
   ]
  },
  {
   "cell_type": "code",
   "execution_count": 25,
   "id": "55e64a84",
   "metadata": {},
   "outputs": [],
   "source": [
    "def get_duplicates(df):\n",
    "    # Get column from year (included) over\n",
    "    index_year = df.columns.get_loc('Year')\n",
    "    columns_from_year = df.columns[index_year:].tolist()\n",
    "\n",
    "    # Add 'Sector', 'Super Sector', 'industry_name' columns to check duplicates\n",
    "    columns_to_check = columns_from_year + ['Sector', 'Super Sector', 'Industry']\n",
    "\n",
    "    # Sort values\n",
    "    sort_columns = ['Country', 'Year'] + columns_from_year\n",
    "    sorted_df = df.sort_values(by=sort_columns, ascending=True)\n",
    "\n",
    "    # Identify rows duplicated\n",
    "    duplicates = sorted_df[sorted_df.duplicated(subset=columns_to_check, keep=False)]\n",
    "\n",
    "    return duplicates.sort_values(by=['Company Name', 'Year'], ascending=True)\n",
    "\n",
    "# Call udf\n",
    "income_statement_duplicates = get_duplicates(income_statement_annual_df1)\n",
    "balance_sheet_annual_duplicates = get_duplicates(balance_sheet_annual_df1)\n",
    "cash_flow_annual_duplicates = get_duplicates(cash_flow_annual_df1)\n",
    "ratio_table_duplicates = get_duplicates(ratio_table_annual_df)"
   ]
  },
  {
   "cell_type": "code",
   "execution_count": null,
   "id": "c3a15718",
   "metadata": {},
   "outputs": [],
   "source": [
    "# income_statement_duplicates.sort_values(by=['Company Name','Year'], ascending=True)"
   ]
  },
  {
   "cell_type": "code",
   "execution_count": 26,
   "id": "15eb08de",
   "metadata": {},
   "outputs": [
    {
     "data": {
      "text/plain": [
       "37"
      ]
     },
     "execution_count": 26,
     "metadata": {},
     "output_type": "execute_result"
    }
   ],
   "source": [
    "# Duplicates number\n",
    "len(cash_flow_annual_duplicates['Company Name'].unique())"
   ]
  },
  {
   "cell_type": "markdown",
   "id": "b594098b",
   "metadata": {},
   "source": [
    "**<u>Remove duplicated values</u>**"
   ]
  },
  {
   "cell_type": "code",
   "execution_count": 27,
   "id": "db91a0e1",
   "metadata": {},
   "outputs": [],
   "source": [
    "def remove_and_sort_duplicates(df):\n",
    "    # Get columns from \"Year\" onwards\n",
    "    index_year = df.columns.get_loc('Year')\n",
    "    columns_from_year = df.columns[index_year:].tolist()\n",
    "\n",
    "    # Sort values\n",
    "    sort_columns = ['Country', 'Year'] + columns_from_year\n",
    "    sorted_df = df.sort_values(by=sort_columns, ascending=True)\n",
    "\n",
    "    # Remove duplicates and sort again\n",
    "    other_col = ['Sector','Super Sector','industry_name']\n",
    "    columns_duplicated = columns_from_year + other_col # Year included\n",
    "    \n",
    "    df_no_duplicates = sorted_df.drop_duplicates(subset=columns_from_year, keep='first')\n",
    "    return df_no_duplicates.sort_values(by=['Company Name','Year'], ascending=True)\n",
    "\n",
    "# Call udf\n",
    "is_y = remove_and_sort_duplicates(income_statement_annual_df1)\n",
    "bs_y = remove_and_sort_duplicates(balance_sheet_annual_df1)\n",
    "cf_y = remove_and_sort_duplicates(cash_flow_annual_df1)\n",
    "rt_y = remove_and_sort_duplicates(ratio_table_annual_df)"
   ]
  },
  {
   "cell_type": "markdown",
   "id": "4c93563a",
   "metadata": {},
   "source": [
    "**<u>Check if duplicated values has been removed</u>**"
   ]
  },
  {
   "cell_type": "code",
   "execution_count": 28,
   "id": "08e7fa5f",
   "metadata": {},
   "outputs": [],
   "source": [
    "income_statement_duplicates = get_duplicates(is_y)\n",
    "balance_sheet_annual_duplicates = get_duplicates(bs_y)\n",
    "cash_flow_annual_duplicates = get_duplicates(cf_y)\n",
    "ratio_table_duplicates = get_duplicates(rt_y)"
   ]
  },
  {
   "cell_type": "code",
   "execution_count": 29,
   "id": "55fa156b",
   "metadata": {},
   "outputs": [
    {
     "data": {
      "text/plain": [
       "0"
      ]
     },
     "execution_count": 29,
     "metadata": {},
     "output_type": "execute_result"
    }
   ],
   "source": [
    "len(ratio_table_duplicates['Company Name'].unique())"
   ]
  },
  {
   "cell_type": "markdown",
   "id": "e6030641",
   "metadata": {},
   "source": [
    "**<u>Rechange 'Year' data type**"
   ]
  },
  {
   "cell_type": "code",
   "execution_count": 30,
   "id": "9960c198",
   "metadata": {},
   "outputs": [],
   "source": [
    "# -- 'category' type will help up in future models\n",
    "def convert_to_category(df, last_col='Year'):\n",
    "    \n",
    "    # Get columns list\n",
    "    cols = df.columns.tolist()\n",
    "\n",
    "    # Get speicified column index\n",
    "    index = cols.index(last_col)\n",
    "\n",
    "    # Select columns till column specified\n",
    "    cols_to_convert = cols[:index+1]\n",
    "\n",
    "    # Convert previous columns to 'category'\n",
    "    for col in cols_to_convert:\n",
    "        df[col] = df[col].astype('category')\n",
    "    \n",
    "    return df"
   ]
  },
  {
   "cell_type": "code",
   "execution_count": 31,
   "id": "4aca299b",
   "metadata": {},
   "outputs": [],
   "source": [
    "balance_sheet_annual = convert_to_category(bs_y)\n",
    "income_statement_annual = convert_to_category(is_y)\n",
    "cash_flow_annual = convert_to_category(cf_y)\n",
    "ratio_table_annual = convert_to_category(rt_y)"
   ]
  },
  {
   "cell_type": "code",
   "execution_count": null,
   "id": "fd440081",
   "metadata": {},
   "outputs": [],
   "source": []
  },
  {
   "cell_type": "markdown",
   "id": "dc1d7ff9",
   "metadata": {},
   "source": [
    "## Results example of each statement table"
   ]
  },
  {
   "cell_type": "markdown",
   "id": "b27bf23e",
   "metadata": {},
   "source": [
    "**Balance Sheet**"
   ]
  },
  {
   "cell_type": "code",
   "execution_count": 32,
   "id": "23f4507b",
   "metadata": {},
   "outputs": [
    {
     "data": {
      "text/plain": [
       "1521"
      ]
     },
     "execution_count": 32,
     "metadata": {},
     "output_type": "execute_result"
    }
   ],
   "source": [
    "len(balance_sheet_annual)"
   ]
  },
  {
   "cell_type": "code",
   "execution_count": 33,
   "id": "44dcd8b7",
   "metadata": {},
   "outputs": [
    {
     "data": {
      "text/html": [
       "<div>\n",
       "<style scoped>\n",
       "    .dataframe tbody tr th:only-of-type {\n",
       "        vertical-align: middle;\n",
       "    }\n",
       "\n",
       "    .dataframe tbody tr th {\n",
       "        vertical-align: top;\n",
       "    }\n",
       "\n",
       "    .dataframe thead th {\n",
       "        text-align: right;\n",
       "    }\n",
       "</style>\n",
       "<table border=\"1\" class=\"dataframe\">\n",
       "  <thead>\n",
       "    <tr style=\"text-align: right;\">\n",
       "      <th></th>\n",
       "      <th>Sector</th>\n",
       "      <th>Super Sector</th>\n",
       "      <th>Industry</th>\n",
       "      <th>Country</th>\n",
       "      <th>Exchange</th>\n",
       "      <th>Ticker</th>\n",
       "      <th>Company Name</th>\n",
       "      <th>Year</th>\n",
       "      <th>Total Assets (USD)</th>\n",
       "      <th>Total Debt (USD)</th>\n",
       "      <th>Total Equity (USD)</th>\n",
       "      <th>Total Liabilities (USD)</th>\n",
       "      <th>Total Shareholders Equity (USD)</th>\n",
       "    </tr>\n",
       "  </thead>\n",
       "  <tbody>\n",
       "    <tr>\n",
       "      <th>232</th>\n",
       "      <td>Consumer Goods</td>\n",
       "      <td>Food Products</td>\n",
       "      <td>Food/Beverages/Tobacco</td>\n",
       "      <td>Sweden</td>\n",
       "      <td>XSTO</td>\n",
       "      <td>AAK</td>\n",
       "      <td>AAK AB</td>\n",
       "      <td>2019</td>\n",
       "      <td>2452734.83</td>\n",
       "      <td>497823.84</td>\n",
       "      <td>1115074.04</td>\n",
       "      <td>1337660.79</td>\n",
       "      <td>1106513.01</td>\n",
       "    </tr>\n",
       "    <tr>\n",
       "      <th>233</th>\n",
       "      <td>Consumer Goods</td>\n",
       "      <td>Food Products</td>\n",
       "      <td>Food/Beverages/Tobacco</td>\n",
       "      <td>Sweden</td>\n",
       "      <td>XSTO</td>\n",
       "      <td>AAK</td>\n",
       "      <td>AAK AB</td>\n",
       "      <td>2020</td>\n",
       "      <td>2707399.17</td>\n",
       "      <td>534310.33</td>\n",
       "      <td>1183575.76</td>\n",
       "      <td>1523823.41</td>\n",
       "      <td>1178715.08</td>\n",
       "    </tr>\n",
       "    <tr>\n",
       "      <th>234</th>\n",
       "      <td>Consumer Goods</td>\n",
       "      <td>Food Products</td>\n",
       "      <td>Food/Beverages/Tobacco</td>\n",
       "      <td>Sweden</td>\n",
       "      <td>XSTO</td>\n",
       "      <td>AAK</td>\n",
       "      <td>AAK AB</td>\n",
       "      <td>2021</td>\n",
       "      <td>3003120.17</td>\n",
       "      <td>506009.72</td>\n",
       "      <td>1307578.64</td>\n",
       "      <td>1695541.53</td>\n",
       "      <td>1302052.10</td>\n",
       "    </tr>\n",
       "    <tr>\n",
       "      <th>235</th>\n",
       "      <td>Consumer Goods</td>\n",
       "      <td>Food Products</td>\n",
       "      <td>Food/Beverages/Tobacco</td>\n",
       "      <td>Sweden</td>\n",
       "      <td>XSTO</td>\n",
       "      <td>AAK</td>\n",
       "      <td>AAK AB</td>\n",
       "      <td>2022</td>\n",
       "      <td>3262611.42</td>\n",
       "      <td>697060.43</td>\n",
       "      <td>1447489.86</td>\n",
       "      <td>1815121.57</td>\n",
       "      <td>1443650.36</td>\n",
       "    </tr>\n",
       "    <tr>\n",
       "      <th>656</th>\n",
       "      <td>Consumer Goods</td>\n",
       "      <td>Food Products</td>\n",
       "      <td>Food/Beverages/Tobacco</td>\n",
       "      <td>Germany</td>\n",
       "      <td>XFRA</td>\n",
       "      <td>OEL</td>\n",
       "      <td>ADM Hamburg AG</td>\n",
       "      <td>2019</td>\n",
       "      <td>207236.94</td>\n",
       "      <td>0.00</td>\n",
       "      <td>59785.06</td>\n",
       "      <td>146835.77</td>\n",
       "      <td>58351.20</td>\n",
       "    </tr>\n",
       "  </tbody>\n",
       "</table>\n",
       "</div>"
      ],
      "text/plain": [
       "             Sector   Super Sector                Industry  Country Exchange  \\\n",
       "232  Consumer Goods  Food Products  Food/Beverages/Tobacco   Sweden     XSTO   \n",
       "233  Consumer Goods  Food Products  Food/Beverages/Tobacco   Sweden     XSTO   \n",
       "234  Consumer Goods  Food Products  Food/Beverages/Tobacco   Sweden     XSTO   \n",
       "235  Consumer Goods  Food Products  Food/Beverages/Tobacco   Sweden     XSTO   \n",
       "656  Consumer Goods  Food Products  Food/Beverages/Tobacco  Germany     XFRA   \n",
       "\n",
       "    Ticker    Company Name  Year  Total Assets (USD)  Total Debt (USD)  \\\n",
       "232    AAK          AAK AB  2019          2452734.83         497823.84   \n",
       "233    AAK          AAK AB  2020          2707399.17         534310.33   \n",
       "234    AAK          AAK AB  2021          3003120.17         506009.72   \n",
       "235    AAK          AAK AB  2022          3262611.42         697060.43   \n",
       "656    OEL  ADM Hamburg AG  2019           207236.94              0.00   \n",
       "\n",
       "     Total Equity (USD)  Total Liabilities (USD)  \\\n",
       "232          1115074.04               1337660.79   \n",
       "233          1183575.76               1523823.41   \n",
       "234          1307578.64               1695541.53   \n",
       "235          1447489.86               1815121.57   \n",
       "656            59785.06                146835.77   \n",
       "\n",
       "     Total Shareholders Equity (USD)  \n",
       "232                       1106513.01  \n",
       "233                       1178715.08  \n",
       "234                       1302052.10  \n",
       "235                       1443650.36  \n",
       "656                         58351.20  "
      ]
     },
     "execution_count": 33,
     "metadata": {},
     "output_type": "execute_result"
    }
   ],
   "source": [
    "balance_sheet_annual.head(5)"
   ]
  },
  {
   "cell_type": "markdown",
   "id": "2e43fbd4",
   "metadata": {},
   "source": [
    "**Income Statement**"
   ]
  },
  {
   "cell_type": "code",
   "execution_count": 34,
   "id": "59c3b074",
   "metadata": {},
   "outputs": [
    {
     "data": {
      "text/plain": [
       "1527"
      ]
     },
     "execution_count": 34,
     "metadata": {},
     "output_type": "execute_result"
    }
   ],
   "source": [
    "len(income_statement_annual)"
   ]
  },
  {
   "cell_type": "code",
   "execution_count": 35,
   "id": "f0612cb2",
   "metadata": {},
   "outputs": [
    {
     "data": {
      "text/html": [
       "<div>\n",
       "<style scoped>\n",
       "    .dataframe tbody tr th:only-of-type {\n",
       "        vertical-align: middle;\n",
       "    }\n",
       "\n",
       "    .dataframe tbody tr th {\n",
       "        vertical-align: top;\n",
       "    }\n",
       "\n",
       "    .dataframe thead th {\n",
       "        text-align: right;\n",
       "    }\n",
       "</style>\n",
       "<table border=\"1\" class=\"dataframe\">\n",
       "  <thead>\n",
       "    <tr style=\"text-align: right;\">\n",
       "      <th></th>\n",
       "      <th>Sector</th>\n",
       "      <th>Super Sector</th>\n",
       "      <th>Industry</th>\n",
       "      <th>Country</th>\n",
       "      <th>Exchange</th>\n",
       "      <th>Ticker</th>\n",
       "      <th>Company Name</th>\n",
       "      <th>Year</th>\n",
       "      <th>Revenue (USD)</th>\n",
       "      <th>EBIT (USD)</th>\n",
       "      <th>Interest Expense (USD)</th>\n",
       "      <th>Pretax Income (USD)</th>\n",
       "      <th>Net Income (USD)</th>\n",
       "      <th>Net Income Available to Common (USD)</th>\n",
       "    </tr>\n",
       "  </thead>\n",
       "  <tbody>\n",
       "    <tr>\n",
       "      <th>232</th>\n",
       "      <td>Consumer Goods</td>\n",
       "      <td>Food Products</td>\n",
       "      <td>Food/Beverages/Tobacco</td>\n",
       "      <td>Sweden</td>\n",
       "      <td>XSTO</td>\n",
       "      <td>AAK</td>\n",
       "      <td>AAK AB</td>\n",
       "      <td>2019</td>\n",
       "      <td>3050936.73</td>\n",
       "      <td>212955.60</td>\n",
       "      <td>16694.01</td>\n",
       "      <td>214025.73</td>\n",
       "      <td>159449.17</td>\n",
       "      <td>159449.17</td>\n",
       "    </tr>\n",
       "    <tr>\n",
       "      <th>233</th>\n",
       "      <td>Consumer Goods</td>\n",
       "      <td>Food Products</td>\n",
       "      <td>Food/Beverages/Tobacco</td>\n",
       "      <td>Sweden</td>\n",
       "      <td>XSTO</td>\n",
       "      <td>AAK</td>\n",
       "      <td>AAK AB</td>\n",
       "      <td>2020</td>\n",
       "      <td>3393970.33</td>\n",
       "      <td>253970.57</td>\n",
       "      <td>16404.80</td>\n",
       "      <td>246679.55</td>\n",
       "      <td>189566.55</td>\n",
       "      <td>189566.55</td>\n",
       "    </tr>\n",
       "    <tr>\n",
       "      <th>234</th>\n",
       "      <td>Consumer Goods</td>\n",
       "      <td>Food Products</td>\n",
       "      <td>Food/Beverages/Tobacco</td>\n",
       "      <td>Sweden</td>\n",
       "      <td>XSTO</td>\n",
       "      <td>AAK</td>\n",
       "      <td>AAK AB</td>\n",
       "      <td>2021</td>\n",
       "      <td>3918314.69</td>\n",
       "      <td>273010.92</td>\n",
       "      <td>13374.22</td>\n",
       "      <td>218850.86</td>\n",
       "      <td>159164.26</td>\n",
       "      <td>159164.26</td>\n",
       "    </tr>\n",
       "    <tr>\n",
       "      <th>235</th>\n",
       "      <td>Consumer Goods</td>\n",
       "      <td>Food Products</td>\n",
       "      <td>Food/Beverages/Tobacco</td>\n",
       "      <td>Sweden</td>\n",
       "      <td>XSTO</td>\n",
       "      <td>AAK</td>\n",
       "      <td>AAK AB</td>\n",
       "      <td>2022</td>\n",
       "      <td>4840644.13</td>\n",
       "      <td>248607.34</td>\n",
       "      <td>22173.09</td>\n",
       "      <td>222690.75</td>\n",
       "      <td>169897.68</td>\n",
       "      <td>169897.68</td>\n",
       "    </tr>\n",
       "    <tr>\n",
       "      <th>656</th>\n",
       "      <td>Consumer Goods</td>\n",
       "      <td>Food Products</td>\n",
       "      <td>Food/Beverages/Tobacco</td>\n",
       "      <td>Germany</td>\n",
       "      <td>XFRA</td>\n",
       "      <td>OEL</td>\n",
       "      <td>ADM Hamburg AG</td>\n",
       "      <td>2019</td>\n",
       "      <td>327187.92</td>\n",
       "      <td>13204.99</td>\n",
       "      <td>791.98</td>\n",
       "      <td>10283.43</td>\n",
       "      <td>8009.43</td>\n",
       "      <td>8009.43</td>\n",
       "    </tr>\n",
       "  </tbody>\n",
       "</table>\n",
       "</div>"
      ],
      "text/plain": [
       "             Sector   Super Sector                Industry  Country Exchange  \\\n",
       "232  Consumer Goods  Food Products  Food/Beverages/Tobacco   Sweden     XSTO   \n",
       "233  Consumer Goods  Food Products  Food/Beverages/Tobacco   Sweden     XSTO   \n",
       "234  Consumer Goods  Food Products  Food/Beverages/Tobacco   Sweden     XSTO   \n",
       "235  Consumer Goods  Food Products  Food/Beverages/Tobacco   Sweden     XSTO   \n",
       "656  Consumer Goods  Food Products  Food/Beverages/Tobacco  Germany     XFRA   \n",
       "\n",
       "    Ticker    Company Name  Year  Revenue (USD)  EBIT (USD)  \\\n",
       "232    AAK          AAK AB  2019     3050936.73   212955.60   \n",
       "233    AAK          AAK AB  2020     3393970.33   253970.57   \n",
       "234    AAK          AAK AB  2021     3918314.69   273010.92   \n",
       "235    AAK          AAK AB  2022     4840644.13   248607.34   \n",
       "656    OEL  ADM Hamburg AG  2019      327187.92    13204.99   \n",
       "\n",
       "     Interest Expense (USD)  Pretax Income (USD)  Net Income (USD)  \\\n",
       "232                16694.01            214025.73         159449.17   \n",
       "233                16404.80            246679.55         189566.55   \n",
       "234                13374.22            218850.86         159164.26   \n",
       "235                22173.09            222690.75         169897.68   \n",
       "656                  791.98             10283.43           8009.43   \n",
       "\n",
       "     Net Income Available to Common (USD)  \n",
       "232                             159449.17  \n",
       "233                             189566.55  \n",
       "234                             159164.26  \n",
       "235                             169897.68  \n",
       "656                               8009.43  "
      ]
     },
     "execution_count": 35,
     "metadata": {},
     "output_type": "execute_result"
    }
   ],
   "source": [
    "income_statement_annual.head(5)"
   ]
  },
  {
   "cell_type": "markdown",
   "id": "410560b5",
   "metadata": {},
   "source": [
    "**Cash Flow**"
   ]
  },
  {
   "cell_type": "code",
   "execution_count": 36,
   "id": "d6e134b9",
   "metadata": {},
   "outputs": [
    {
     "data": {
      "text/plain": [
       "1481"
      ]
     },
     "execution_count": 36,
     "metadata": {},
     "output_type": "execute_result"
    }
   ],
   "source": [
    "len(cash_flow_annual)"
   ]
  },
  {
   "cell_type": "code",
   "execution_count": 37,
   "id": "b5a1312a",
   "metadata": {},
   "outputs": [
    {
     "data": {
      "text/html": [
       "<div>\n",
       "<style scoped>\n",
       "    .dataframe tbody tr th:only-of-type {\n",
       "        vertical-align: middle;\n",
       "    }\n",
       "\n",
       "    .dataframe tbody tr th {\n",
       "        vertical-align: top;\n",
       "    }\n",
       "\n",
       "    .dataframe thead th {\n",
       "        text-align: right;\n",
       "    }\n",
       "</style>\n",
       "<table border=\"1\" class=\"dataframe\">\n",
       "  <thead>\n",
       "    <tr style=\"text-align: right;\">\n",
       "      <th></th>\n",
       "      <th>Sector</th>\n",
       "      <th>Super Sector</th>\n",
       "      <th>Industry</th>\n",
       "      <th>Country</th>\n",
       "      <th>Exchange</th>\n",
       "      <th>Ticker</th>\n",
       "      <th>Company Name</th>\n",
       "      <th>Year</th>\n",
       "      <th>Funds from Operations (USD)</th>\n",
       "      <th>Changes in Working Capital (USD)</th>\n",
       "      <th>Net Operating Cash Flow (USD)</th>\n",
       "      <th>Capital Expenditures (USD)</th>\n",
       "      <th>Net Investing Cash Flow (USD)</th>\n",
       "      <th>Cash Dividends Paid Total (USD)</th>\n",
       "      <th>Net Financing Cash Flow (USD)</th>\n",
       "      <th>Free Cash Flow (USD)</th>\n",
       "    </tr>\n",
       "  </thead>\n",
       "  <tbody>\n",
       "    <tr>\n",
       "      <th>224</th>\n",
       "      <td>Consumer Goods</td>\n",
       "      <td>Food Products</td>\n",
       "      <td>Food/Beverages/Tobacco</td>\n",
       "      <td>Sweden</td>\n",
       "      <td>XSTO</td>\n",
       "      <td>AAK</td>\n",
       "      <td>AAK AB</td>\n",
       "      <td>2019</td>\n",
       "      <td>262181.52</td>\n",
       "      <td>-95883.53</td>\n",
       "      <td>166940.07</td>\n",
       "      <td>-85717.30</td>\n",
       "      <td>-143397.24</td>\n",
       "      <td>-50189.03</td>\n",
       "      <td>NaN</td>\n",
       "      <td>82506.92</td>\n",
       "    </tr>\n",
       "    <tr>\n",
       "      <th>225</th>\n",
       "      <td>Consumer Goods</td>\n",
       "      <td>Food Products</td>\n",
       "      <td>Food/Beverages/Tobacco</td>\n",
       "      <td>Sweden</td>\n",
       "      <td>XSTO</td>\n",
       "      <td>AAK</td>\n",
       "      <td>AAK AB</td>\n",
       "      <td>2020</td>\n",
       "      <td>240603.70</td>\n",
       "      <td>5346.75</td>\n",
       "      <td>245464.38</td>\n",
       "      <td>-90165.63</td>\n",
       "      <td>-139744.57</td>\n",
       "      <td>-65133.12</td>\n",
       "      <td>-69264.70</td>\n",
       "      <td>159187.29</td>\n",
       "    </tr>\n",
       "    <tr>\n",
       "      <th>226</th>\n",
       "      <td>Consumer Goods</td>\n",
       "      <td>Food Products</td>\n",
       "      <td>Food/Beverages/Tobacco</td>\n",
       "      <td>Sweden</td>\n",
       "      <td>XSTO</td>\n",
       "      <td>AAK</td>\n",
       "      <td>AAK AB</td>\n",
       "      <td>2021</td>\n",
       "      <td>294011.77</td>\n",
       "      <td>-237641.09</td>\n",
       "      <td>56149.62</td>\n",
       "      <td>-68418.53</td>\n",
       "      <td>-71844.98</td>\n",
       "      <td>-65213.14</td>\n",
       "      <td>-7184.50</td>\n",
       "      <td>-11605.73</td>\n",
       "    </tr>\n",
       "    <tr>\n",
       "      <th>227</th>\n",
       "      <td>Consumer Goods</td>\n",
       "      <td>Food Products</td>\n",
       "      <td>Food/Beverages/Tobacco</td>\n",
       "      <td>Sweden</td>\n",
       "      <td>XSTO</td>\n",
       "      <td>AAK</td>\n",
       "      <td>AAK AB</td>\n",
       "      <td>2022</td>\n",
       "      <td>253406.71</td>\n",
       "      <td>-260125.83</td>\n",
       "      <td>-7007.08</td>\n",
       "      <td>-118064.49</td>\n",
       "      <td>-118064.49</td>\n",
       "      <td>-62007.85</td>\n",
       "      <td>171817.43</td>\n",
       "      <td>-123823.73</td>\n",
       "    </tr>\n",
       "    <tr>\n",
       "      <th>634</th>\n",
       "      <td>Consumer Goods</td>\n",
       "      <td>Food Products</td>\n",
       "      <td>Food/Beverages/Tobacco</td>\n",
       "      <td>Germany</td>\n",
       "      <td>XFRA</td>\n",
       "      <td>OEL</td>\n",
       "      <td>ADM Hamburg AG</td>\n",
       "      <td>2019</td>\n",
       "      <td>23669.82</td>\n",
       "      <td>-5791.43</td>\n",
       "      <td>17878.39</td>\n",
       "      <td>-12904.70</td>\n",
       "      <td>-12882.30</td>\n",
       "      <td>NaN</td>\n",
       "      <td>-5007.29</td>\n",
       "      <td>4984.89</td>\n",
       "    </tr>\n",
       "  </tbody>\n",
       "</table>\n",
       "</div>"
      ],
      "text/plain": [
       "             Sector   Super Sector                Industry  Country Exchange  \\\n",
       "224  Consumer Goods  Food Products  Food/Beverages/Tobacco   Sweden     XSTO   \n",
       "225  Consumer Goods  Food Products  Food/Beverages/Tobacco   Sweden     XSTO   \n",
       "226  Consumer Goods  Food Products  Food/Beverages/Tobacco   Sweden     XSTO   \n",
       "227  Consumer Goods  Food Products  Food/Beverages/Tobacco   Sweden     XSTO   \n",
       "634  Consumer Goods  Food Products  Food/Beverages/Tobacco  Germany     XFRA   \n",
       "\n",
       "    Ticker    Company Name  Year  Funds from Operations (USD)  \\\n",
       "224    AAK          AAK AB  2019                    262181.52   \n",
       "225    AAK          AAK AB  2020                    240603.70   \n",
       "226    AAK          AAK AB  2021                    294011.77   \n",
       "227    AAK          AAK AB  2022                    253406.71   \n",
       "634    OEL  ADM Hamburg AG  2019                     23669.82   \n",
       "\n",
       "     Changes in Working Capital (USD)  Net Operating Cash Flow (USD)  \\\n",
       "224                         -95883.53                      166940.07   \n",
       "225                           5346.75                      245464.38   \n",
       "226                        -237641.09                       56149.62   \n",
       "227                        -260125.83                       -7007.08   \n",
       "634                          -5791.43                       17878.39   \n",
       "\n",
       "     Capital Expenditures (USD)  Net Investing Cash Flow (USD)  \\\n",
       "224                   -85717.30                     -143397.24   \n",
       "225                   -90165.63                     -139744.57   \n",
       "226                   -68418.53                      -71844.98   \n",
       "227                  -118064.49                     -118064.49   \n",
       "634                   -12904.70                      -12882.30   \n",
       "\n",
       "     Cash Dividends Paid Total (USD)  Net Financing Cash Flow (USD)  \\\n",
       "224                        -50189.03                            NaN   \n",
       "225                        -65133.12                      -69264.70   \n",
       "226                        -65213.14                       -7184.50   \n",
       "227                        -62007.85                      171817.43   \n",
       "634                              NaN                       -5007.29   \n",
       "\n",
       "     Free Cash Flow (USD)  \n",
       "224              82506.92  \n",
       "225             159187.29  \n",
       "226             -11605.73  \n",
       "227            -123823.73  \n",
       "634               4984.89  "
      ]
     },
     "execution_count": 37,
     "metadata": {},
     "output_type": "execute_result"
    }
   ],
   "source": [
    "cash_flow_annual.head(5)"
   ]
  },
  {
   "cell_type": "markdown",
   "id": "f6fbb518",
   "metadata": {},
   "source": [
    "**Ratio Table**"
   ]
  },
  {
   "cell_type": "code",
   "execution_count": 38,
   "id": "3793696e",
   "metadata": {},
   "outputs": [
    {
     "data": {
      "text/plain": [
       "1497"
      ]
     },
     "execution_count": 38,
     "metadata": {},
     "output_type": "execute_result"
    }
   ],
   "source": [
    "len(ratio_table_annual)"
   ]
  },
  {
   "cell_type": "code",
   "execution_count": 39,
   "id": "91707f0f",
   "metadata": {},
   "outputs": [
    {
     "data": {
      "text/html": [
       "<div>\n",
       "<style scoped>\n",
       "    .dataframe tbody tr th:only-of-type {\n",
       "        vertical-align: middle;\n",
       "    }\n",
       "\n",
       "    .dataframe tbody tr th {\n",
       "        vertical-align: top;\n",
       "    }\n",
       "\n",
       "    .dataframe thead th {\n",
       "        text-align: right;\n",
       "    }\n",
       "</style>\n",
       "<table border=\"1\" class=\"dataframe\">\n",
       "  <thead>\n",
       "    <tr style=\"text-align: right;\">\n",
       "      <th>Indices</th>\n",
       "      <th>Sector</th>\n",
       "      <th>Super Sector</th>\n",
       "      <th>Industry</th>\n",
       "      <th>Country</th>\n",
       "      <th>Exchange</th>\n",
       "      <th>Ticker</th>\n",
       "      <th>Company Name</th>\n",
       "      <th>Currency Sign</th>\n",
       "      <th>Year</th>\n",
       "      <th>Liabilities to Assets</th>\n",
       "      <th>Debt to Liabilities</th>\n",
       "      <th>Debt to Equity</th>\n",
       "      <th>InterestExp to EBIT</th>\n",
       "      <th>Return On Equity</th>\n",
       "      <th>Total_Shareholders_Equity</th>\n",
       "      <th>Operating Margin</th>\n",
       "      <th>Capex to EBIT</th>\n",
       "      <th>D&amp;A aprox to EBITDA</th>\n",
       "    </tr>\n",
       "  </thead>\n",
       "  <tbody>\n",
       "    <tr>\n",
       "      <th>220</th>\n",
       "      <td>Consumer Goods</td>\n",
       "      <td>Food Products</td>\n",
       "      <td>Food/Beverages/Tobacco</td>\n",
       "      <td>Sweden</td>\n",
       "      <td>XSTO</td>\n",
       "      <td>AAK</td>\n",
       "      <td>AAK AB</td>\n",
       "      <td>kr</td>\n",
       "      <td>2019</td>\n",
       "      <td>0.55</td>\n",
       "      <td>0.37</td>\n",
       "      <td>0.45</td>\n",
       "      <td>0.08</td>\n",
       "      <td>0.14</td>\n",
       "      <td>1.00</td>\n",
       "      <td>0.07</td>\n",
       "      <td>0.40</td>\n",
       "      <td>0.33</td>\n",
       "    </tr>\n",
       "    <tr>\n",
       "      <th>221</th>\n",
       "      <td>Consumer Goods</td>\n",
       "      <td>Food Products</td>\n",
       "      <td>Food/Beverages/Tobacco</td>\n",
       "      <td>Sweden</td>\n",
       "      <td>XSTO</td>\n",
       "      <td>AAK</td>\n",
       "      <td>AAK AB</td>\n",
       "      <td>kr</td>\n",
       "      <td>2020</td>\n",
       "      <td>0.56</td>\n",
       "      <td>0.35</td>\n",
       "      <td>0.45</td>\n",
       "      <td>0.06</td>\n",
       "      <td>0.16</td>\n",
       "      <td>1.00</td>\n",
       "      <td>0.07</td>\n",
       "      <td>0.36</td>\n",
       "      <td>0.17</td>\n",
       "    </tr>\n",
       "    <tr>\n",
       "      <th>222</th>\n",
       "      <td>Consumer Goods</td>\n",
       "      <td>Food Products</td>\n",
       "      <td>Food/Beverages/Tobacco</td>\n",
       "      <td>Sweden</td>\n",
       "      <td>XSTO</td>\n",
       "      <td>AAK</td>\n",
       "      <td>AAK AB</td>\n",
       "      <td>kr</td>\n",
       "      <td>2021</td>\n",
       "      <td>0.56</td>\n",
       "      <td>0.30</td>\n",
       "      <td>0.39</td>\n",
       "      <td>0.05</td>\n",
       "      <td>0.12</td>\n",
       "      <td>1.00</td>\n",
       "      <td>0.07</td>\n",
       "      <td>0.25</td>\n",
       "      <td>0.33</td>\n",
       "    </tr>\n",
       "    <tr>\n",
       "      <th>223</th>\n",
       "      <td>Consumer Goods</td>\n",
       "      <td>Food Products</td>\n",
       "      <td>Food/Beverages/Tobacco</td>\n",
       "      <td>Sweden</td>\n",
       "      <td>XSTO</td>\n",
       "      <td>AAK</td>\n",
       "      <td>AAK AB</td>\n",
       "      <td>kr</td>\n",
       "      <td>2022</td>\n",
       "      <td>0.56</td>\n",
       "      <td>0.38</td>\n",
       "      <td>0.48</td>\n",
       "      <td>0.09</td>\n",
       "      <td>0.12</td>\n",
       "      <td>1.00</td>\n",
       "      <td>0.05</td>\n",
       "      <td>0.47</td>\n",
       "      <td>0.25</td>\n",
       "    </tr>\n",
       "    <tr>\n",
       "      <th>620</th>\n",
       "      <td>Consumer Goods</td>\n",
       "      <td>Food Products</td>\n",
       "      <td>Food/Beverages/Tobacco</td>\n",
       "      <td>Germany</td>\n",
       "      <td>XFRA</td>\n",
       "      <td>OEL</td>\n",
       "      <td>ADM Hamburg AG</td>\n",
       "      <td>€</td>\n",
       "      <td>2019</td>\n",
       "      <td>0.71</td>\n",
       "      <td>0.00</td>\n",
       "      <td>0.00</td>\n",
       "      <td>0.06</td>\n",
       "      <td>0.14</td>\n",
       "      <td>1.00</td>\n",
       "      <td>0.04</td>\n",
       "      <td>0.98</td>\n",
       "      <td>0.54</td>\n",
       "    </tr>\n",
       "  </tbody>\n",
       "</table>\n",
       "</div>"
      ],
      "text/plain": [
       "Indices          Sector   Super Sector                Industry  Country  \\\n",
       "220      Consumer Goods  Food Products  Food/Beverages/Tobacco   Sweden   \n",
       "221      Consumer Goods  Food Products  Food/Beverages/Tobacco   Sweden   \n",
       "222      Consumer Goods  Food Products  Food/Beverages/Tobacco   Sweden   \n",
       "223      Consumer Goods  Food Products  Food/Beverages/Tobacco   Sweden   \n",
       "620      Consumer Goods  Food Products  Food/Beverages/Tobacco  Germany   \n",
       "\n",
       "Indices Exchange Ticker    Company Name Currency Sign  Year  \\\n",
       "220         XSTO    AAK          AAK AB            kr  2019   \n",
       "221         XSTO    AAK          AAK AB            kr  2020   \n",
       "222         XSTO    AAK          AAK AB            kr  2021   \n",
       "223         XSTO    AAK          AAK AB            kr  2022   \n",
       "620         XFRA    OEL  ADM Hamburg AG             €  2019   \n",
       "\n",
       "Indices  Liabilities to Assets  Debt to Liabilities  Debt to Equity  \\\n",
       "220                       0.55                 0.37            0.45   \n",
       "221                       0.56                 0.35            0.45   \n",
       "222                       0.56                 0.30            0.39   \n",
       "223                       0.56                 0.38            0.48   \n",
       "620                       0.71                 0.00            0.00   \n",
       "\n",
       "Indices  InterestExp to EBIT  Return On Equity  Total_Shareholders_Equity  \\\n",
       "220                     0.08              0.14                       1.00   \n",
       "221                     0.06              0.16                       1.00   \n",
       "222                     0.05              0.12                       1.00   \n",
       "223                     0.09              0.12                       1.00   \n",
       "620                     0.06              0.14                       1.00   \n",
       "\n",
       "Indices  Operating Margin  Capex to EBIT  D&A aprox to EBITDA  \n",
       "220                  0.07           0.40                 0.33  \n",
       "221                  0.07           0.36                 0.17  \n",
       "222                  0.07           0.25                 0.33  \n",
       "223                  0.05           0.47                 0.25  \n",
       "620                  0.04           0.98                 0.54  "
      ]
     },
     "execution_count": 39,
     "metadata": {},
     "output_type": "execute_result"
    }
   ],
   "source": [
    "ratio_table_annual.head(5)"
   ]
  },
  {
   "cell_type": "code",
   "execution_count": null,
   "id": "b9772304",
   "metadata": {},
   "outputs": [],
   "source": []
  },
  {
   "cell_type": "markdown",
   "id": "495e81f7",
   "metadata": {},
   "source": [
    "## Optional saving (Excel)"
   ]
  },
  {
   "cell_type": "code",
   "execution_count": 88,
   "id": "996a86b8",
   "metadata": {},
   "outputs": [
    {
     "name": "stdout",
     "output_type": "stream",
     "text": [
      "time: 3.69 s (started: 2023-09-07 23:28:57 +02:00)\n"
     ]
    }
   ],
   "source": [
    "income_statement_annual.to_excel(\"income_statement_annual.xlsx\")\n",
    "balance_sheet_annual.to_excel(\"balance_sheet_annual.xlsx\")\n",
    "cash_flow_annual.to_excel(\"cash_flow_annual.xlsx\")\n",
    "ratio_table_annual.to_excel(\"ratio_table_annual.xlsx\")"
   ]
  }
 ],
 "metadata": {
  "kernelspec": {
   "display_name": "Python 3 (ipykernel)",
   "language": "python",
   "name": "python3"
  },
  "language_info": {
   "codemirror_mode": {
    "name": "ipython",
    "version": 3
   },
   "file_extension": ".py",
   "mimetype": "text/x-python",
   "name": "python",
   "nbconvert_exporter": "python",
   "pygments_lexer": "ipython3",
   "version": "3.11.4"
  }
 },
 "nbformat": 4,
 "nbformat_minor": 5
}
